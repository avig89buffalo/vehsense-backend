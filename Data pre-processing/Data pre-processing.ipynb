{
 "cells": [
  {
   "cell_type": "code",
   "execution_count": 575,
   "metadata": {
    "collapsed": true
   },
   "outputs": [],
   "source": [
    "import pandas as pd"
   ]
  },
  {
   "cell_type": "code",
   "execution_count": 576,
   "metadata": {
    "collapsed": true
   },
   "outputs": [],
   "source": [
    "from matplotlib import pyplot"
   ]
  },
  {
   "cell_type": "markdown",
   "metadata": {},
   "source": [
    "### Sampling rate"
   ]
  },
  {
   "cell_type": "code",
   "execution_count": 577,
   "metadata": {
    "collapsed": true
   },
   "outputs": [],
   "source": [
    "sampling_rate = '10L'"
   ]
  },
  {
   "cell_type": "code",
   "execution_count": 578,
   "metadata": {
    "collapsed": true
   },
   "outputs": [],
   "source": [
    "##TODO: accept an input directory and process all the files "
   ]
  },
  {
   "cell_type": "code",
   "execution_count": 579,
   "metadata": {
    "collapsed": true
   },
   "outputs": [],
   "source": [
    "raw_acc_file = 'raw_acc.txt'"
   ]
  },
  {
   "cell_type": "code",
   "execution_count": 580,
   "metadata": {
    "collapsed": true
   },
   "outputs": [],
   "source": [
    "raw_obd_file = 'raw_obd.txt'"
   ]
  },
  {
   "cell_type": "markdown",
   "metadata": {},
   "source": [
    "### Reference file"
   ]
  },
  {
   "cell_type": "code",
   "execution_count": 581,
   "metadata": {
    "collapsed": true
   },
   "outputs": [],
   "source": [
    "ref_DF =  pd.read_csv(raw_obd_file)"
   ]
  },
  {
   "cell_type": "code",
   "execution_count": 582,
   "metadata": {
    "collapsed": true
   },
   "outputs": [],
   "source": [
    "ref_variable = 'timestamp' # variable of obd file"
   ]
  },
  {
   "cell_type": "markdown",
   "metadata": {},
   "source": [
    "### Processing"
   ]
  },
  {
   "cell_type": "code",
   "execution_count": 583,
   "metadata": {
    "collapsed": true
   },
   "outputs": [],
   "source": [
    "acc_DF = pd.read_csv(raw_acc_file)"
   ]
  },
  {
   "cell_type": "code",
   "execution_count": 584,
   "metadata": {
    "collapsed": true
   },
   "outputs": [],
   "source": [
    "obd_DF = pd.read_csv(raw_obd_file)"
   ]
  },
  {
   "cell_type": "code",
   "execution_count": 585,
   "metadata": {},
   "outputs": [
    {
     "data": {
      "text/html": [
       "<div>\n",
       "<style>\n",
       "    .dataframe thead tr:only-child th {\n",
       "        text-align: right;\n",
       "    }\n",
       "\n",
       "    .dataframe thead th {\n",
       "        text-align: left;\n",
       "    }\n",
       "\n",
       "    .dataframe tbody tr th {\n",
       "        vertical-align: top;\n",
       "    }\n",
       "</style>\n",
       "<table border=\"1\" class=\"dataframe\">\n",
       "  <thead>\n",
       "    <tr style=\"text-align: right;\">\n",
       "      <th></th>\n",
       "      <th>timestamp</th>\n",
       "      <th>sys_time</th>\n",
       "      <th>abs_timestamp</th>\n",
       "      <th>raw_x_acc</th>\n",
       "      <th>raw_y_acc</th>\n",
       "      <th>raw_z_acc</th>\n",
       "    </tr>\n",
       "  </thead>\n",
       "  <tbody>\n",
       "    <tr>\n",
       "      <th>0</th>\n",
       "      <td>0.0</td>\n",
       "      <td>1508975971982</td>\n",
       "      <td>2605508272423122</td>\n",
       "      <td>9.662998</td>\n",
       "      <td>0.517148</td>\n",
       "      <td>-0.612916</td>\n",
       "    </tr>\n",
       "    <tr>\n",
       "      <th>1</th>\n",
       "      <td>5.0</td>\n",
       "      <td>1508975971988</td>\n",
       "      <td>2605508277444997</td>\n",
       "      <td>9.691729</td>\n",
       "      <td>0.402226</td>\n",
       "      <td>-0.641646</td>\n",
       "    </tr>\n",
       "    <tr>\n",
       "      <th>2</th>\n",
       "      <td>9.0</td>\n",
       "      <td>1508975971993</td>\n",
       "      <td>2605508282402810</td>\n",
       "      <td>9.624691</td>\n",
       "      <td>0.191536</td>\n",
       "      <td>-0.536301</td>\n",
       "    </tr>\n",
       "    <tr>\n",
       "      <th>3</th>\n",
       "      <td>15.0</td>\n",
       "      <td>1508975971998</td>\n",
       "      <td>2605508287426247</td>\n",
       "      <td>9.634268</td>\n",
       "      <td>-0.019154</td>\n",
       "      <td>-0.296881</td>\n",
       "    </tr>\n",
       "    <tr>\n",
       "      <th>4</th>\n",
       "      <td>19.0</td>\n",
       "      <td>1508975972002</td>\n",
       "      <td>2605508292415310</td>\n",
       "      <td>9.749189</td>\n",
       "      <td>-0.114922</td>\n",
       "      <td>0.076614</td>\n",
       "    </tr>\n",
       "  </tbody>\n",
       "</table>\n",
       "</div>"
      ],
      "text/plain": [
       "   timestamp       sys_time     abs_timestamp  raw_x_acc  raw_y_acc  raw_z_acc\n",
       "0        0.0  1508975971982  2605508272423122   9.662998   0.517148  -0.612916\n",
       "1        5.0  1508975971988  2605508277444997   9.691729   0.402226  -0.641646\n",
       "2        9.0  1508975971993  2605508282402810   9.624691   0.191536  -0.536301\n",
       "3       15.0  1508975971998  2605508287426247   9.634268  -0.019154  -0.296881\n",
       "4       19.0  1508975972002  2605508292415310   9.749189  -0.114922   0.076614"
      ]
     },
     "execution_count": 585,
     "metadata": {},
     "output_type": "execute_result"
    }
   ],
   "source": [
    "acc_DF.head(5)"
   ]
  },
  {
   "cell_type": "code",
   "execution_count": 586,
   "metadata": {},
   "outputs": [
    {
     "data": {
      "text/html": [
       "<div>\n",
       "<style>\n",
       "    .dataframe thead tr:only-child th {\n",
       "        text-align: right;\n",
       "    }\n",
       "\n",
       "    .dataframe thead th {\n",
       "        text-align: left;\n",
       "    }\n",
       "\n",
       "    .dataframe tbody tr th {\n",
       "        vertical-align: top;\n",
       "    }\n",
       "</style>\n",
       "<table border=\"1\" class=\"dataframe\">\n",
       "  <thead>\n",
       "    <tr style=\"text-align: right;\">\n",
       "      <th></th>\n",
       "      <th>timestamp</th>\n",
       "      <th>RPM</th>\n",
       "      <th>Speed</th>\n",
       "      <th>Consumption_Rate</th>\n",
       "      <th>AirFuelRatio</th>\n",
       "      <th>ThrottlePosition</th>\n",
       "      <th>MassAirFlow</th>\n",
       "      <th>FuelType</th>\n",
       "      <th>FuelLevel</th>\n",
       "      <th>FuelTrim</th>\n",
       "      <th>...</th>\n",
       "      <th>AirIntakeTemperature</th>\n",
       "      <th>AmbientAirTemperature</th>\n",
       "      <th>EngineCoolantTemperature</th>\n",
       "      <th>FuelPressure</th>\n",
       "      <th>DistanceMIL</th>\n",
       "      <th>DistanceSinceCCC</th>\n",
       "      <th>EquivalentRatio</th>\n",
       "      <th>IgnitionMonitor</th>\n",
       "      <th>ModuleVoltage</th>\n",
       "      <th>PendingTroubleCodes</th>\n",
       "    </tr>\n",
       "  </thead>\n",
       "  <tbody>\n",
       "    <tr>\n",
       "      <th>0</th>\n",
       "      <td>1508975975440</td>\n",
       "      <td>1667RPM</td>\n",
       "      <td>0km/h</td>\n",
       "      <td>NaN</td>\n",
       "      <td>NaN</td>\n",
       "      <td>NaN</td>\n",
       "      <td>NaN</td>\n",
       "      <td>NaN</td>\n",
       "      <td>NaN</td>\n",
       "      <td>NaN</td>\n",
       "      <td>...</td>\n",
       "      <td>NaN</td>\n",
       "      <td>NaN</td>\n",
       "      <td>NaN</td>\n",
       "      <td>NaN</td>\n",
       "      <td>NaN</td>\n",
       "      <td>NaN</td>\n",
       "      <td>NaN</td>\n",
       "      <td>NaN</td>\n",
       "      <td>NaN</td>\n",
       "      <td>NaN</td>\n",
       "    </tr>\n",
       "    <tr>\n",
       "      <th>1</th>\n",
       "      <td>1508975976257</td>\n",
       "      <td>1652RPM</td>\n",
       "      <td>0km/h</td>\n",
       "      <td>NaN</td>\n",
       "      <td>NaN</td>\n",
       "      <td>NaN</td>\n",
       "      <td>NaN</td>\n",
       "      <td>NaN</td>\n",
       "      <td>NaN</td>\n",
       "      <td>NaN</td>\n",
       "      <td>...</td>\n",
       "      <td>NaN</td>\n",
       "      <td>NaN</td>\n",
       "      <td>NaN</td>\n",
       "      <td>NaN</td>\n",
       "      <td>NaN</td>\n",
       "      <td>NaN</td>\n",
       "      <td>NaN</td>\n",
       "      <td>NaN</td>\n",
       "      <td>NaN</td>\n",
       "      <td>NaN</td>\n",
       "    </tr>\n",
       "    <tr>\n",
       "      <th>2</th>\n",
       "      <td>1508975976834</td>\n",
       "      <td>1646RPM</td>\n",
       "      <td>0km/h</td>\n",
       "      <td>NaN</td>\n",
       "      <td>NaN</td>\n",
       "      <td>NaN</td>\n",
       "      <td>NaN</td>\n",
       "      <td>NaN</td>\n",
       "      <td>NaN</td>\n",
       "      <td>NaN</td>\n",
       "      <td>...</td>\n",
       "      <td>NaN</td>\n",
       "      <td>NaN</td>\n",
       "      <td>NaN</td>\n",
       "      <td>NaN</td>\n",
       "      <td>NaN</td>\n",
       "      <td>NaN</td>\n",
       "      <td>NaN</td>\n",
       "      <td>NaN</td>\n",
       "      <td>NaN</td>\n",
       "      <td>NaN</td>\n",
       "    </tr>\n",
       "    <tr>\n",
       "      <th>3</th>\n",
       "      <td>1508975977029</td>\n",
       "      <td>1663RPM</td>\n",
       "      <td>0km/h</td>\n",
       "      <td>NaN</td>\n",
       "      <td>NaN</td>\n",
       "      <td>NaN</td>\n",
       "      <td>NaN</td>\n",
       "      <td>NaN</td>\n",
       "      <td>NaN</td>\n",
       "      <td>NaN</td>\n",
       "      <td>...</td>\n",
       "      <td>NaN</td>\n",
       "      <td>NaN</td>\n",
       "      <td>NaN</td>\n",
       "      <td>NaN</td>\n",
       "      <td>NaN</td>\n",
       "      <td>NaN</td>\n",
       "      <td>NaN</td>\n",
       "      <td>NaN</td>\n",
       "      <td>NaN</td>\n",
       "      <td>NaN</td>\n",
       "    </tr>\n",
       "    <tr>\n",
       "      <th>4</th>\n",
       "      <td>1508975977207</td>\n",
       "      <td>1660RPM</td>\n",
       "      <td>0km/h</td>\n",
       "      <td>NaN</td>\n",
       "      <td>NaN</td>\n",
       "      <td>NaN</td>\n",
       "      <td>NaN</td>\n",
       "      <td>NaN</td>\n",
       "      <td>NaN</td>\n",
       "      <td>NaN</td>\n",
       "      <td>...</td>\n",
       "      <td>NaN</td>\n",
       "      <td>NaN</td>\n",
       "      <td>NaN</td>\n",
       "      <td>NaN</td>\n",
       "      <td>NaN</td>\n",
       "      <td>NaN</td>\n",
       "      <td>NaN</td>\n",
       "      <td>NaN</td>\n",
       "      <td>NaN</td>\n",
       "      <td>NaN</td>\n",
       "    </tr>\n",
       "  </tbody>\n",
       "</table>\n",
       "<p>5 rows × 22 columns</p>\n",
       "</div>"
      ],
      "text/plain": [
       "       timestamp      RPM  Speed  Consumption_Rate  AirFuelRatio  \\\n",
       "0  1508975975440  1667RPM  0km/h               NaN           NaN   \n",
       "1  1508975976257  1652RPM  0km/h               NaN           NaN   \n",
       "2  1508975976834  1646RPM  0km/h               NaN           NaN   \n",
       "3  1508975977029  1663RPM  0km/h               NaN           NaN   \n",
       "4  1508975977207  1660RPM  0km/h               NaN           NaN   \n",
       "\n",
       "   ThrottlePosition  MassAirFlow  FuelType  FuelLevel  FuelTrim  \\\n",
       "0               NaN          NaN       NaN        NaN       NaN   \n",
       "1               NaN          NaN       NaN        NaN       NaN   \n",
       "2               NaN          NaN       NaN        NaN       NaN   \n",
       "3               NaN          NaN       NaN        NaN       NaN   \n",
       "4               NaN          NaN       NaN        NaN       NaN   \n",
       "\n",
       "          ...           AirIntakeTemperature  AmbientAirTemperature  \\\n",
       "0         ...                            NaN                    NaN   \n",
       "1         ...                            NaN                    NaN   \n",
       "2         ...                            NaN                    NaN   \n",
       "3         ...                            NaN                    NaN   \n",
       "4         ...                            NaN                    NaN   \n",
       "\n",
       "   EngineCoolantTemperature  FuelPressure  DistanceMIL  DistanceSinceCCC  \\\n",
       "0                       NaN           NaN          NaN               NaN   \n",
       "1                       NaN           NaN          NaN               NaN   \n",
       "2                       NaN           NaN          NaN               NaN   \n",
       "3                       NaN           NaN          NaN               NaN   \n",
       "4                       NaN           NaN          NaN               NaN   \n",
       "\n",
       "   EquivalentRatio  IgnitionMonitor  ModuleVoltage  PendingTroubleCodes  \n",
       "0              NaN              NaN            NaN                  NaN  \n",
       "1              NaN              NaN            NaN                  NaN  \n",
       "2              NaN              NaN            NaN                  NaN  \n",
       "3              NaN              NaN            NaN                  NaN  \n",
       "4              NaN              NaN            NaN                  NaN  \n",
       "\n",
       "[5 rows x 22 columns]"
      ]
     },
     "execution_count": 586,
     "metadata": {},
     "output_type": "execute_result"
    }
   ],
   "source": [
    "obd_DF.head(5)"
   ]
  },
  {
   "cell_type": "code",
   "execution_count": 587,
   "metadata": {
    "collapsed": true
   },
   "outputs": [],
   "source": [
    "start_time = int(ref_DF[ref_variable].head(1))"
   ]
  },
  {
   "cell_type": "code",
   "execution_count": 588,
   "metadata": {},
   "outputs": [
    {
     "data": {
      "text/plain": [
       "1508975975440"
      ]
     },
     "execution_count": 588,
     "metadata": {},
     "output_type": "execute_result"
    }
   ],
   "source": [
    "start_time"
   ]
  },
  {
   "cell_type": "code",
   "execution_count": 589,
   "metadata": {
    "collapsed": true
   },
   "outputs": [],
   "source": [
    "end_time = int(ref_DF[ref_variable].tail(1))"
   ]
  },
  {
   "cell_type": "code",
   "execution_count": 590,
   "metadata": {},
   "outputs": [
    {
     "data": {
      "text/plain": [
       "1508976453224"
      ]
     },
     "execution_count": 590,
     "metadata": {},
     "output_type": "execute_result"
    }
   ],
   "source": [
    "end_time"
   ]
  },
  {
   "cell_type": "markdown",
   "metadata": {},
   "source": [
    "### Sync start and end time"
   ]
  },
  {
   "cell_type": "code",
   "execution_count": 591,
   "metadata": {
    "collapsed": true
   },
   "outputs": [],
   "source": [
    "#TODO: repeat for all other files"
   ]
  },
  {
   "cell_type": "code",
   "execution_count": 592,
   "metadata": {},
   "outputs": [],
   "source": [
    "acc_DF = acc_DF.loc[(acc_DF['sys_time'] >= start_time) & (acc_DF['sys_time'] <= end_time)]"
   ]
  },
  {
   "cell_type": "code",
   "execution_count": 593,
   "metadata": {},
   "outputs": [
    {
     "data": {
      "text/html": [
       "<div>\n",
       "<style>\n",
       "    .dataframe thead tr:only-child th {\n",
       "        text-align: right;\n",
       "    }\n",
       "\n",
       "    .dataframe thead th {\n",
       "        text-align: left;\n",
       "    }\n",
       "\n",
       "    .dataframe tbody tr th {\n",
       "        vertical-align: top;\n",
       "    }\n",
       "</style>\n",
       "<table border=\"1\" class=\"dataframe\">\n",
       "  <thead>\n",
       "    <tr style=\"text-align: right;\">\n",
       "      <th></th>\n",
       "      <th>timestamp</th>\n",
       "      <th>sys_time</th>\n",
       "      <th>abs_timestamp</th>\n",
       "      <th>raw_x_acc</th>\n",
       "      <th>raw_y_acc</th>\n",
       "      <th>raw_z_acc</th>\n",
       "    </tr>\n",
       "  </thead>\n",
       "  <tbody>\n",
       "    <tr>\n",
       "      <th>692</th>\n",
       "      <td>3460.0</td>\n",
       "      <td>1508975975445</td>\n",
       "      <td>2605511732459060</td>\n",
       "      <td>9.720459</td>\n",
       "      <td>0.210690</td>\n",
       "      <td>0.287304</td>\n",
       "    </tr>\n",
       "    <tr>\n",
       "      <th>693</th>\n",
       "      <td>3465.0</td>\n",
       "      <td>1508975975448</td>\n",
       "      <td>2605511737440310</td>\n",
       "      <td>9.710882</td>\n",
       "      <td>0.296881</td>\n",
       "      <td>0.392649</td>\n",
       "    </tr>\n",
       "    <tr>\n",
       "      <th>694</th>\n",
       "      <td>3470.0</td>\n",
       "      <td>1508975975453</td>\n",
       "      <td>2605511742429372</td>\n",
       "      <td>9.662998</td>\n",
       "      <td>0.373495</td>\n",
       "      <td>0.220267</td>\n",
       "    </tr>\n",
       "    <tr>\n",
       "      <th>695</th>\n",
       "      <td>3474.0</td>\n",
       "      <td>1508975975458</td>\n",
       "      <td>2605511747419997</td>\n",
       "      <td>9.548077</td>\n",
       "      <td>0.363919</td>\n",
       "      <td>0.306458</td>\n",
       "    </tr>\n",
       "    <tr>\n",
       "      <th>696</th>\n",
       "      <td>3479.0</td>\n",
       "      <td>1508975975462</td>\n",
       "      <td>2605511752409060</td>\n",
       "      <td>9.356541</td>\n",
       "      <td>0.335188</td>\n",
       "      <td>0.325611</td>\n",
       "    </tr>\n",
       "  </tbody>\n",
       "</table>\n",
       "</div>"
      ],
      "text/plain": [
       "     timestamp       sys_time     abs_timestamp  raw_x_acc  raw_y_acc  \\\n",
       "692     3460.0  1508975975445  2605511732459060   9.720459   0.210690   \n",
       "693     3465.0  1508975975448  2605511737440310   9.710882   0.296881   \n",
       "694     3470.0  1508975975453  2605511742429372   9.662998   0.373495   \n",
       "695     3474.0  1508975975458  2605511747419997   9.548077   0.363919   \n",
       "696     3479.0  1508975975462  2605511752409060   9.356541   0.335188   \n",
       "\n",
       "     raw_z_acc  \n",
       "692   0.287304  \n",
       "693   0.392649  \n",
       "694   0.220267  \n",
       "695   0.306458  \n",
       "696   0.325611  "
      ]
     },
     "execution_count": 593,
     "metadata": {},
     "output_type": "execute_result"
    }
   ],
   "source": [
    "acc_DF.head(5)"
   ]
  },
  {
   "cell_type": "markdown",
   "metadata": {},
   "source": [
    "### Change the default time stamp to 0"
   ]
  },
  {
   "cell_type": "code",
   "execution_count": 594,
   "metadata": {},
   "outputs": [],
   "source": [
    "acc_DF['sys_time'] = acc_DF['sys_time'] - start_time"
   ]
  },
  {
   "cell_type": "code",
   "execution_count": 595,
   "metadata": {
    "collapsed": true
   },
   "outputs": [],
   "source": [
    "obd_DF['timestamp'] = obd_DF['timestamp'] - start_time"
   ]
  },
  {
   "cell_type": "code",
   "execution_count": 596,
   "metadata": {},
   "outputs": [
    {
     "data": {
      "text/html": [
       "<div>\n",
       "<style>\n",
       "    .dataframe thead tr:only-child th {\n",
       "        text-align: right;\n",
       "    }\n",
       "\n",
       "    .dataframe thead th {\n",
       "        text-align: left;\n",
       "    }\n",
       "\n",
       "    .dataframe tbody tr th {\n",
       "        vertical-align: top;\n",
       "    }\n",
       "</style>\n",
       "<table border=\"1\" class=\"dataframe\">\n",
       "  <thead>\n",
       "    <tr style=\"text-align: right;\">\n",
       "      <th></th>\n",
       "      <th>timestamp</th>\n",
       "      <th>sys_time</th>\n",
       "      <th>abs_timestamp</th>\n",
       "      <th>raw_x_acc</th>\n",
       "      <th>raw_y_acc</th>\n",
       "      <th>raw_z_acc</th>\n",
       "    </tr>\n",
       "  </thead>\n",
       "  <tbody>\n",
       "    <tr>\n",
       "      <th>692</th>\n",
       "      <td>3460.0</td>\n",
       "      <td>5</td>\n",
       "      <td>2605511732459060</td>\n",
       "      <td>9.720459</td>\n",
       "      <td>0.210690</td>\n",
       "      <td>0.287304</td>\n",
       "    </tr>\n",
       "    <tr>\n",
       "      <th>693</th>\n",
       "      <td>3465.0</td>\n",
       "      <td>8</td>\n",
       "      <td>2605511737440310</td>\n",
       "      <td>9.710882</td>\n",
       "      <td>0.296881</td>\n",
       "      <td>0.392649</td>\n",
       "    </tr>\n",
       "    <tr>\n",
       "      <th>694</th>\n",
       "      <td>3470.0</td>\n",
       "      <td>13</td>\n",
       "      <td>2605511742429372</td>\n",
       "      <td>9.662998</td>\n",
       "      <td>0.373495</td>\n",
       "      <td>0.220267</td>\n",
       "    </tr>\n",
       "    <tr>\n",
       "      <th>695</th>\n",
       "      <td>3474.0</td>\n",
       "      <td>18</td>\n",
       "      <td>2605511747419997</td>\n",
       "      <td>9.548077</td>\n",
       "      <td>0.363919</td>\n",
       "      <td>0.306458</td>\n",
       "    </tr>\n",
       "    <tr>\n",
       "      <th>696</th>\n",
       "      <td>3479.0</td>\n",
       "      <td>22</td>\n",
       "      <td>2605511752409060</td>\n",
       "      <td>9.356541</td>\n",
       "      <td>0.335188</td>\n",
       "      <td>0.325611</td>\n",
       "    </tr>\n",
       "  </tbody>\n",
       "</table>\n",
       "</div>"
      ],
      "text/plain": [
       "     timestamp  sys_time     abs_timestamp  raw_x_acc  raw_y_acc  raw_z_acc\n",
       "692     3460.0         5  2605511732459060   9.720459   0.210690   0.287304\n",
       "693     3465.0         8  2605511737440310   9.710882   0.296881   0.392649\n",
       "694     3470.0        13  2605511742429372   9.662998   0.373495   0.220267\n",
       "695     3474.0        18  2605511747419997   9.548077   0.363919   0.306458\n",
       "696     3479.0        22  2605511752409060   9.356541   0.335188   0.325611"
      ]
     },
     "execution_count": 596,
     "metadata": {},
     "output_type": "execute_result"
    }
   ],
   "source": [
    "acc_DF.head(5)"
   ]
  },
  {
   "cell_type": "code",
   "execution_count": 597,
   "metadata": {},
   "outputs": [
    {
     "data": {
      "text/html": [
       "<div>\n",
       "<style>\n",
       "    .dataframe thead tr:only-child th {\n",
       "        text-align: right;\n",
       "    }\n",
       "\n",
       "    .dataframe thead th {\n",
       "        text-align: left;\n",
       "    }\n",
       "\n",
       "    .dataframe tbody tr th {\n",
       "        vertical-align: top;\n",
       "    }\n",
       "</style>\n",
       "<table border=\"1\" class=\"dataframe\">\n",
       "  <thead>\n",
       "    <tr style=\"text-align: right;\">\n",
       "      <th></th>\n",
       "      <th>timestamp</th>\n",
       "      <th>RPM</th>\n",
       "      <th>Speed</th>\n",
       "      <th>Consumption_Rate</th>\n",
       "      <th>AirFuelRatio</th>\n",
       "      <th>ThrottlePosition</th>\n",
       "      <th>MassAirFlow</th>\n",
       "      <th>FuelType</th>\n",
       "      <th>FuelLevel</th>\n",
       "      <th>FuelTrim</th>\n",
       "      <th>...</th>\n",
       "      <th>AirIntakeTemperature</th>\n",
       "      <th>AmbientAirTemperature</th>\n",
       "      <th>EngineCoolantTemperature</th>\n",
       "      <th>FuelPressure</th>\n",
       "      <th>DistanceMIL</th>\n",
       "      <th>DistanceSinceCCC</th>\n",
       "      <th>EquivalentRatio</th>\n",
       "      <th>IgnitionMonitor</th>\n",
       "      <th>ModuleVoltage</th>\n",
       "      <th>PendingTroubleCodes</th>\n",
       "    </tr>\n",
       "  </thead>\n",
       "  <tbody>\n",
       "    <tr>\n",
       "      <th>0</th>\n",
       "      <td>0</td>\n",
       "      <td>1667RPM</td>\n",
       "      <td>0km/h</td>\n",
       "      <td>NaN</td>\n",
       "      <td>NaN</td>\n",
       "      <td>NaN</td>\n",
       "      <td>NaN</td>\n",
       "      <td>NaN</td>\n",
       "      <td>NaN</td>\n",
       "      <td>NaN</td>\n",
       "      <td>...</td>\n",
       "      <td>NaN</td>\n",
       "      <td>NaN</td>\n",
       "      <td>NaN</td>\n",
       "      <td>NaN</td>\n",
       "      <td>NaN</td>\n",
       "      <td>NaN</td>\n",
       "      <td>NaN</td>\n",
       "      <td>NaN</td>\n",
       "      <td>NaN</td>\n",
       "      <td>NaN</td>\n",
       "    </tr>\n",
       "    <tr>\n",
       "      <th>1</th>\n",
       "      <td>817</td>\n",
       "      <td>1652RPM</td>\n",
       "      <td>0km/h</td>\n",
       "      <td>NaN</td>\n",
       "      <td>NaN</td>\n",
       "      <td>NaN</td>\n",
       "      <td>NaN</td>\n",
       "      <td>NaN</td>\n",
       "      <td>NaN</td>\n",
       "      <td>NaN</td>\n",
       "      <td>...</td>\n",
       "      <td>NaN</td>\n",
       "      <td>NaN</td>\n",
       "      <td>NaN</td>\n",
       "      <td>NaN</td>\n",
       "      <td>NaN</td>\n",
       "      <td>NaN</td>\n",
       "      <td>NaN</td>\n",
       "      <td>NaN</td>\n",
       "      <td>NaN</td>\n",
       "      <td>NaN</td>\n",
       "    </tr>\n",
       "    <tr>\n",
       "      <th>2</th>\n",
       "      <td>1394</td>\n",
       "      <td>1646RPM</td>\n",
       "      <td>0km/h</td>\n",
       "      <td>NaN</td>\n",
       "      <td>NaN</td>\n",
       "      <td>NaN</td>\n",
       "      <td>NaN</td>\n",
       "      <td>NaN</td>\n",
       "      <td>NaN</td>\n",
       "      <td>NaN</td>\n",
       "      <td>...</td>\n",
       "      <td>NaN</td>\n",
       "      <td>NaN</td>\n",
       "      <td>NaN</td>\n",
       "      <td>NaN</td>\n",
       "      <td>NaN</td>\n",
       "      <td>NaN</td>\n",
       "      <td>NaN</td>\n",
       "      <td>NaN</td>\n",
       "      <td>NaN</td>\n",
       "      <td>NaN</td>\n",
       "    </tr>\n",
       "    <tr>\n",
       "      <th>3</th>\n",
       "      <td>1589</td>\n",
       "      <td>1663RPM</td>\n",
       "      <td>0km/h</td>\n",
       "      <td>NaN</td>\n",
       "      <td>NaN</td>\n",
       "      <td>NaN</td>\n",
       "      <td>NaN</td>\n",
       "      <td>NaN</td>\n",
       "      <td>NaN</td>\n",
       "      <td>NaN</td>\n",
       "      <td>...</td>\n",
       "      <td>NaN</td>\n",
       "      <td>NaN</td>\n",
       "      <td>NaN</td>\n",
       "      <td>NaN</td>\n",
       "      <td>NaN</td>\n",
       "      <td>NaN</td>\n",
       "      <td>NaN</td>\n",
       "      <td>NaN</td>\n",
       "      <td>NaN</td>\n",
       "      <td>NaN</td>\n",
       "    </tr>\n",
       "    <tr>\n",
       "      <th>4</th>\n",
       "      <td>1767</td>\n",
       "      <td>1660RPM</td>\n",
       "      <td>0km/h</td>\n",
       "      <td>NaN</td>\n",
       "      <td>NaN</td>\n",
       "      <td>NaN</td>\n",
       "      <td>NaN</td>\n",
       "      <td>NaN</td>\n",
       "      <td>NaN</td>\n",
       "      <td>NaN</td>\n",
       "      <td>...</td>\n",
       "      <td>NaN</td>\n",
       "      <td>NaN</td>\n",
       "      <td>NaN</td>\n",
       "      <td>NaN</td>\n",
       "      <td>NaN</td>\n",
       "      <td>NaN</td>\n",
       "      <td>NaN</td>\n",
       "      <td>NaN</td>\n",
       "      <td>NaN</td>\n",
       "      <td>NaN</td>\n",
       "    </tr>\n",
       "  </tbody>\n",
       "</table>\n",
       "<p>5 rows × 22 columns</p>\n",
       "</div>"
      ],
      "text/plain": [
       "   timestamp      RPM  Speed  Consumption_Rate  AirFuelRatio  \\\n",
       "0          0  1667RPM  0km/h               NaN           NaN   \n",
       "1        817  1652RPM  0km/h               NaN           NaN   \n",
       "2       1394  1646RPM  0km/h               NaN           NaN   \n",
       "3       1589  1663RPM  0km/h               NaN           NaN   \n",
       "4       1767  1660RPM  0km/h               NaN           NaN   \n",
       "\n",
       "   ThrottlePosition  MassAirFlow  FuelType  FuelLevel  FuelTrim  \\\n",
       "0               NaN          NaN       NaN        NaN       NaN   \n",
       "1               NaN          NaN       NaN        NaN       NaN   \n",
       "2               NaN          NaN       NaN        NaN       NaN   \n",
       "3               NaN          NaN       NaN        NaN       NaN   \n",
       "4               NaN          NaN       NaN        NaN       NaN   \n",
       "\n",
       "          ...           AirIntakeTemperature  AmbientAirTemperature  \\\n",
       "0         ...                            NaN                    NaN   \n",
       "1         ...                            NaN                    NaN   \n",
       "2         ...                            NaN                    NaN   \n",
       "3         ...                            NaN                    NaN   \n",
       "4         ...                            NaN                    NaN   \n",
       "\n",
       "   EngineCoolantTemperature  FuelPressure  DistanceMIL  DistanceSinceCCC  \\\n",
       "0                       NaN           NaN          NaN               NaN   \n",
       "1                       NaN           NaN          NaN               NaN   \n",
       "2                       NaN           NaN          NaN               NaN   \n",
       "3                       NaN           NaN          NaN               NaN   \n",
       "4                       NaN           NaN          NaN               NaN   \n",
       "\n",
       "   EquivalentRatio  IgnitionMonitor  ModuleVoltage  PendingTroubleCodes  \n",
       "0              NaN              NaN            NaN                  NaN  \n",
       "1              NaN              NaN            NaN                  NaN  \n",
       "2              NaN              NaN            NaN                  NaN  \n",
       "3              NaN              NaN            NaN                  NaN  \n",
       "4              NaN              NaN            NaN                  NaN  \n",
       "\n",
       "[5 rows x 22 columns]"
      ]
     },
     "execution_count": 597,
     "metadata": {},
     "output_type": "execute_result"
    }
   ],
   "source": [
    "obd_DF.head(5)"
   ]
  },
  {
   "cell_type": "markdown",
   "metadata": {},
   "source": [
    "### Convert timestamp to Epoch for sampling"
   ]
  },
  {
   "cell_type": "code",
   "execution_count": 598,
   "metadata": {
    "collapsed": true
   },
   "outputs": [],
   "source": [
    "acc_DF['sys_time'] = pd.to_datetime(acc_DF['sys_time'], unit='ms')"
   ]
  },
  {
   "cell_type": "code",
   "execution_count": 599,
   "metadata": {
    "collapsed": true
   },
   "outputs": [],
   "source": [
    "obd_DF['timestamp'] = pd.to_datetime(obd_DF['timestamp'], unit='ms')"
   ]
  },
  {
   "cell_type": "code",
   "execution_count": 600,
   "metadata": {},
   "outputs": [
    {
     "data": {
      "text/html": [
       "<div>\n",
       "<style>\n",
       "    .dataframe thead tr:only-child th {\n",
       "        text-align: right;\n",
       "    }\n",
       "\n",
       "    .dataframe thead th {\n",
       "        text-align: left;\n",
       "    }\n",
       "\n",
       "    .dataframe tbody tr th {\n",
       "        vertical-align: top;\n",
       "    }\n",
       "</style>\n",
       "<table border=\"1\" class=\"dataframe\">\n",
       "  <thead>\n",
       "    <tr style=\"text-align: right;\">\n",
       "      <th></th>\n",
       "      <th>timestamp</th>\n",
       "      <th>sys_time</th>\n",
       "      <th>abs_timestamp</th>\n",
       "      <th>raw_x_acc</th>\n",
       "      <th>raw_y_acc</th>\n",
       "      <th>raw_z_acc</th>\n",
       "    </tr>\n",
       "  </thead>\n",
       "  <tbody>\n",
       "    <tr>\n",
       "      <th>692</th>\n",
       "      <td>3460.0</td>\n",
       "      <td>1970-01-01 00:00:00.005</td>\n",
       "      <td>2605511732459060</td>\n",
       "      <td>9.720459</td>\n",
       "      <td>0.210690</td>\n",
       "      <td>0.287304</td>\n",
       "    </tr>\n",
       "    <tr>\n",
       "      <th>693</th>\n",
       "      <td>3465.0</td>\n",
       "      <td>1970-01-01 00:00:00.008</td>\n",
       "      <td>2605511737440310</td>\n",
       "      <td>9.710882</td>\n",
       "      <td>0.296881</td>\n",
       "      <td>0.392649</td>\n",
       "    </tr>\n",
       "    <tr>\n",
       "      <th>694</th>\n",
       "      <td>3470.0</td>\n",
       "      <td>1970-01-01 00:00:00.013</td>\n",
       "      <td>2605511742429372</td>\n",
       "      <td>9.662998</td>\n",
       "      <td>0.373495</td>\n",
       "      <td>0.220267</td>\n",
       "    </tr>\n",
       "    <tr>\n",
       "      <th>695</th>\n",
       "      <td>3474.0</td>\n",
       "      <td>1970-01-01 00:00:00.018</td>\n",
       "      <td>2605511747419997</td>\n",
       "      <td>9.548077</td>\n",
       "      <td>0.363919</td>\n",
       "      <td>0.306458</td>\n",
       "    </tr>\n",
       "    <tr>\n",
       "      <th>696</th>\n",
       "      <td>3479.0</td>\n",
       "      <td>1970-01-01 00:00:00.022</td>\n",
       "      <td>2605511752409060</td>\n",
       "      <td>9.356541</td>\n",
       "      <td>0.335188</td>\n",
       "      <td>0.325611</td>\n",
       "    </tr>\n",
       "  </tbody>\n",
       "</table>\n",
       "</div>"
      ],
      "text/plain": [
       "     timestamp                sys_time     abs_timestamp  raw_x_acc  \\\n",
       "692     3460.0 1970-01-01 00:00:00.005  2605511732459060   9.720459   \n",
       "693     3465.0 1970-01-01 00:00:00.008  2605511737440310   9.710882   \n",
       "694     3470.0 1970-01-01 00:00:00.013  2605511742429372   9.662998   \n",
       "695     3474.0 1970-01-01 00:00:00.018  2605511747419997   9.548077   \n",
       "696     3479.0 1970-01-01 00:00:00.022  2605511752409060   9.356541   \n",
       "\n",
       "     raw_y_acc  raw_z_acc  \n",
       "692   0.210690   0.287304  \n",
       "693   0.296881   0.392649  \n",
       "694   0.373495   0.220267  \n",
       "695   0.363919   0.306458  \n",
       "696   0.335188   0.325611  "
      ]
     },
     "execution_count": 600,
     "metadata": {},
     "output_type": "execute_result"
    }
   ],
   "source": [
    "acc_DF.head(5)"
   ]
  },
  {
   "cell_type": "code",
   "execution_count": 601,
   "metadata": {},
   "outputs": [
    {
     "data": {
      "text/html": [
       "<div>\n",
       "<style>\n",
       "    .dataframe thead tr:only-child th {\n",
       "        text-align: right;\n",
       "    }\n",
       "\n",
       "    .dataframe thead th {\n",
       "        text-align: left;\n",
       "    }\n",
       "\n",
       "    .dataframe tbody tr th {\n",
       "        vertical-align: top;\n",
       "    }\n",
       "</style>\n",
       "<table border=\"1\" class=\"dataframe\">\n",
       "  <thead>\n",
       "    <tr style=\"text-align: right;\">\n",
       "      <th></th>\n",
       "      <th>timestamp</th>\n",
       "      <th>RPM</th>\n",
       "      <th>Speed</th>\n",
       "      <th>Consumption_Rate</th>\n",
       "      <th>AirFuelRatio</th>\n",
       "      <th>ThrottlePosition</th>\n",
       "      <th>MassAirFlow</th>\n",
       "      <th>FuelType</th>\n",
       "      <th>FuelLevel</th>\n",
       "      <th>FuelTrim</th>\n",
       "      <th>...</th>\n",
       "      <th>AirIntakeTemperature</th>\n",
       "      <th>AmbientAirTemperature</th>\n",
       "      <th>EngineCoolantTemperature</th>\n",
       "      <th>FuelPressure</th>\n",
       "      <th>DistanceMIL</th>\n",
       "      <th>DistanceSinceCCC</th>\n",
       "      <th>EquivalentRatio</th>\n",
       "      <th>IgnitionMonitor</th>\n",
       "      <th>ModuleVoltage</th>\n",
       "      <th>PendingTroubleCodes</th>\n",
       "    </tr>\n",
       "  </thead>\n",
       "  <tbody>\n",
       "    <tr>\n",
       "      <th>0</th>\n",
       "      <td>1970-01-01 00:00:00.000</td>\n",
       "      <td>1667RPM</td>\n",
       "      <td>0km/h</td>\n",
       "      <td>NaN</td>\n",
       "      <td>NaN</td>\n",
       "      <td>NaN</td>\n",
       "      <td>NaN</td>\n",
       "      <td>NaN</td>\n",
       "      <td>NaN</td>\n",
       "      <td>NaN</td>\n",
       "      <td>...</td>\n",
       "      <td>NaN</td>\n",
       "      <td>NaN</td>\n",
       "      <td>NaN</td>\n",
       "      <td>NaN</td>\n",
       "      <td>NaN</td>\n",
       "      <td>NaN</td>\n",
       "      <td>NaN</td>\n",
       "      <td>NaN</td>\n",
       "      <td>NaN</td>\n",
       "      <td>NaN</td>\n",
       "    </tr>\n",
       "    <tr>\n",
       "      <th>1</th>\n",
       "      <td>1970-01-01 00:00:00.817</td>\n",
       "      <td>1652RPM</td>\n",
       "      <td>0km/h</td>\n",
       "      <td>NaN</td>\n",
       "      <td>NaN</td>\n",
       "      <td>NaN</td>\n",
       "      <td>NaN</td>\n",
       "      <td>NaN</td>\n",
       "      <td>NaN</td>\n",
       "      <td>NaN</td>\n",
       "      <td>...</td>\n",
       "      <td>NaN</td>\n",
       "      <td>NaN</td>\n",
       "      <td>NaN</td>\n",
       "      <td>NaN</td>\n",
       "      <td>NaN</td>\n",
       "      <td>NaN</td>\n",
       "      <td>NaN</td>\n",
       "      <td>NaN</td>\n",
       "      <td>NaN</td>\n",
       "      <td>NaN</td>\n",
       "    </tr>\n",
       "    <tr>\n",
       "      <th>2</th>\n",
       "      <td>1970-01-01 00:00:01.394</td>\n",
       "      <td>1646RPM</td>\n",
       "      <td>0km/h</td>\n",
       "      <td>NaN</td>\n",
       "      <td>NaN</td>\n",
       "      <td>NaN</td>\n",
       "      <td>NaN</td>\n",
       "      <td>NaN</td>\n",
       "      <td>NaN</td>\n",
       "      <td>NaN</td>\n",
       "      <td>...</td>\n",
       "      <td>NaN</td>\n",
       "      <td>NaN</td>\n",
       "      <td>NaN</td>\n",
       "      <td>NaN</td>\n",
       "      <td>NaN</td>\n",
       "      <td>NaN</td>\n",
       "      <td>NaN</td>\n",
       "      <td>NaN</td>\n",
       "      <td>NaN</td>\n",
       "      <td>NaN</td>\n",
       "    </tr>\n",
       "    <tr>\n",
       "      <th>3</th>\n",
       "      <td>1970-01-01 00:00:01.589</td>\n",
       "      <td>1663RPM</td>\n",
       "      <td>0km/h</td>\n",
       "      <td>NaN</td>\n",
       "      <td>NaN</td>\n",
       "      <td>NaN</td>\n",
       "      <td>NaN</td>\n",
       "      <td>NaN</td>\n",
       "      <td>NaN</td>\n",
       "      <td>NaN</td>\n",
       "      <td>...</td>\n",
       "      <td>NaN</td>\n",
       "      <td>NaN</td>\n",
       "      <td>NaN</td>\n",
       "      <td>NaN</td>\n",
       "      <td>NaN</td>\n",
       "      <td>NaN</td>\n",
       "      <td>NaN</td>\n",
       "      <td>NaN</td>\n",
       "      <td>NaN</td>\n",
       "      <td>NaN</td>\n",
       "    </tr>\n",
       "    <tr>\n",
       "      <th>4</th>\n",
       "      <td>1970-01-01 00:00:01.767</td>\n",
       "      <td>1660RPM</td>\n",
       "      <td>0km/h</td>\n",
       "      <td>NaN</td>\n",
       "      <td>NaN</td>\n",
       "      <td>NaN</td>\n",
       "      <td>NaN</td>\n",
       "      <td>NaN</td>\n",
       "      <td>NaN</td>\n",
       "      <td>NaN</td>\n",
       "      <td>...</td>\n",
       "      <td>NaN</td>\n",
       "      <td>NaN</td>\n",
       "      <td>NaN</td>\n",
       "      <td>NaN</td>\n",
       "      <td>NaN</td>\n",
       "      <td>NaN</td>\n",
       "      <td>NaN</td>\n",
       "      <td>NaN</td>\n",
       "      <td>NaN</td>\n",
       "      <td>NaN</td>\n",
       "    </tr>\n",
       "  </tbody>\n",
       "</table>\n",
       "<p>5 rows × 22 columns</p>\n",
       "</div>"
      ],
      "text/plain": [
       "                timestamp      RPM  Speed  Consumption_Rate  AirFuelRatio  \\\n",
       "0 1970-01-01 00:00:00.000  1667RPM  0km/h               NaN           NaN   \n",
       "1 1970-01-01 00:00:00.817  1652RPM  0km/h               NaN           NaN   \n",
       "2 1970-01-01 00:00:01.394  1646RPM  0km/h               NaN           NaN   \n",
       "3 1970-01-01 00:00:01.589  1663RPM  0km/h               NaN           NaN   \n",
       "4 1970-01-01 00:00:01.767  1660RPM  0km/h               NaN           NaN   \n",
       "\n",
       "   ThrottlePosition  MassAirFlow  FuelType  FuelLevel  FuelTrim  \\\n",
       "0               NaN          NaN       NaN        NaN       NaN   \n",
       "1               NaN          NaN       NaN        NaN       NaN   \n",
       "2               NaN          NaN       NaN        NaN       NaN   \n",
       "3               NaN          NaN       NaN        NaN       NaN   \n",
       "4               NaN          NaN       NaN        NaN       NaN   \n",
       "\n",
       "          ...           AirIntakeTemperature  AmbientAirTemperature  \\\n",
       "0         ...                            NaN                    NaN   \n",
       "1         ...                            NaN                    NaN   \n",
       "2         ...                            NaN                    NaN   \n",
       "3         ...                            NaN                    NaN   \n",
       "4         ...                            NaN                    NaN   \n",
       "\n",
       "   EngineCoolantTemperature  FuelPressure  DistanceMIL  DistanceSinceCCC  \\\n",
       "0                       NaN           NaN          NaN               NaN   \n",
       "1                       NaN           NaN          NaN               NaN   \n",
       "2                       NaN           NaN          NaN               NaN   \n",
       "3                       NaN           NaN          NaN               NaN   \n",
       "4                       NaN           NaN          NaN               NaN   \n",
       "\n",
       "   EquivalentRatio  IgnitionMonitor  ModuleVoltage  PendingTroubleCodes  \n",
       "0              NaN              NaN            NaN                  NaN  \n",
       "1              NaN              NaN            NaN                  NaN  \n",
       "2              NaN              NaN            NaN                  NaN  \n",
       "3              NaN              NaN            NaN                  NaN  \n",
       "4              NaN              NaN            NaN                  NaN  \n",
       "\n",
       "[5 rows x 22 columns]"
      ]
     },
     "execution_count": 601,
     "metadata": {},
     "output_type": "execute_result"
    }
   ],
   "source": [
    "obd_DF.head(5)"
   ]
  },
  {
   "cell_type": "markdown",
   "metadata": {},
   "source": [
    "### Perform resampling "
   ]
  },
  {
   "cell_type": "code",
   "execution_count": 602,
   "metadata": {
    "collapsed": true
   },
   "outputs": [],
   "source": [
    "###TODO: Verify resampling"
   ]
  },
  {
   "cell_type": "code",
   "execution_count": 603,
   "metadata": {},
   "outputs": [
    {
     "data": {
      "text/plain": [
       "95557"
      ]
     },
     "execution_count": 603,
     "metadata": {},
     "output_type": "execute_result"
    }
   ],
   "source": [
    "len(acc_DF.index)"
   ]
  },
  {
   "cell_type": "code",
   "execution_count": 604,
   "metadata": {
    "collapsed": true
   },
   "outputs": [],
   "source": [
    "acc_DF = acc_DF.resample(sampling_rate, on='sys_time').mean()"
   ]
  },
  {
   "cell_type": "code",
   "execution_count": 605,
   "metadata": {
    "collapsed": true
   },
   "outputs": [],
   "source": [
    "acc_DF.to_csv(\"new.txt\")"
   ]
  },
  {
   "cell_type": "code",
   "execution_count": 606,
   "metadata": {
    "collapsed": true
   },
   "outputs": [],
   "source": [
    "acc_DF1 = pd.read_csv(\"new.txt\")"
   ]
  },
  {
   "cell_type": "code",
   "execution_count": 607,
   "metadata": {},
   "outputs": [
    {
     "data": {
      "text/html": [
       "<div>\n",
       "<style>\n",
       "    .dataframe thead tr:only-child th {\n",
       "        text-align: right;\n",
       "    }\n",
       "\n",
       "    .dataframe thead th {\n",
       "        text-align: left;\n",
       "    }\n",
       "\n",
       "    .dataframe tbody tr th {\n",
       "        vertical-align: top;\n",
       "    }\n",
       "</style>\n",
       "<table border=\"1\" class=\"dataframe\">\n",
       "  <thead>\n",
       "    <tr style=\"text-align: right;\">\n",
       "      <th></th>\n",
       "      <th>sys_time</th>\n",
       "      <th>timestamp</th>\n",
       "      <th>abs_timestamp</th>\n",
       "      <th>raw_x_acc</th>\n",
       "      <th>raw_y_acc</th>\n",
       "      <th>raw_z_acc</th>\n",
       "    </tr>\n",
       "  </thead>\n",
       "  <tbody>\n",
       "    <tr>\n",
       "      <th>0</th>\n",
       "      <td>1970-01-01 00:00:00.000</td>\n",
       "      <td>3462.5</td>\n",
       "      <td>2.605512e+15</td>\n",
       "      <td>9.715671</td>\n",
       "      <td>0.253785</td>\n",
       "      <td>0.339977</td>\n",
       "    </tr>\n",
       "    <tr>\n",
       "      <th>1</th>\n",
       "      <td>1970-01-01 00:00:00.010</td>\n",
       "      <td>3472.0</td>\n",
       "      <td>2.605512e+15</td>\n",
       "      <td>9.605538</td>\n",
       "      <td>0.368707</td>\n",
       "      <td>0.263362</td>\n",
       "    </tr>\n",
       "    <tr>\n",
       "      <th>2</th>\n",
       "      <td>1970-01-01 00:00:00.020</td>\n",
       "      <td>3482.0</td>\n",
       "      <td>2.605512e+15</td>\n",
       "      <td>9.399636</td>\n",
       "      <td>0.296881</td>\n",
       "      <td>0.378284</td>\n",
       "    </tr>\n",
       "    <tr>\n",
       "      <th>3</th>\n",
       "      <td>1970-01-01 00:00:00.030</td>\n",
       "      <td>3492.0</td>\n",
       "      <td>2.605512e+15</td>\n",
       "      <td>9.653422</td>\n",
       "      <td>0.138864</td>\n",
       "      <td>0.363919</td>\n",
       "    </tr>\n",
       "    <tr>\n",
       "      <th>4</th>\n",
       "      <td>1970-01-01 00:00:00.040</td>\n",
       "      <td>3502.0</td>\n",
       "      <td>2.605512e+15</td>\n",
       "      <td>9.892841</td>\n",
       "      <td>0.047884</td>\n",
       "      <td>0.387861</td>\n",
       "    </tr>\n",
       "  </tbody>\n",
       "</table>\n",
       "</div>"
      ],
      "text/plain": [
       "                  sys_time  timestamp  abs_timestamp  raw_x_acc  raw_y_acc  \\\n",
       "0  1970-01-01 00:00:00.000     3462.5   2.605512e+15   9.715671   0.253785   \n",
       "1  1970-01-01 00:00:00.010     3472.0   2.605512e+15   9.605538   0.368707   \n",
       "2  1970-01-01 00:00:00.020     3482.0   2.605512e+15   9.399636   0.296881   \n",
       "3  1970-01-01 00:00:00.030     3492.0   2.605512e+15   9.653422   0.138864   \n",
       "4  1970-01-01 00:00:00.040     3502.0   2.605512e+15   9.892841   0.047884   \n",
       "\n",
       "   raw_z_acc  \n",
       "0   0.339977  \n",
       "1   0.263362  \n",
       "2   0.378284  \n",
       "3   0.363919  \n",
       "4   0.387861  "
      ]
     },
     "execution_count": 607,
     "metadata": {},
     "output_type": "execute_result"
    }
   ],
   "source": [
    "acc_DF1.head(5)"
   ]
  },
  {
   "cell_type": "code",
   "execution_count": 608,
   "metadata": {},
   "outputs": [
    {
     "data": {
      "text/plain": [
       "47779"
      ]
     },
     "execution_count": 608,
     "metadata": {},
     "output_type": "execute_result"
    }
   ],
   "source": [
    "len(acc_DF.index)"
   ]
  },
  {
   "cell_type": "code",
   "execution_count": 609,
   "metadata": {},
   "outputs": [],
   "source": [
    "acc_DF = acc_DF.dropna()"
   ]
  },
  {
   "cell_type": "code",
   "execution_count": 610,
   "metadata": {},
   "outputs": [
    {
     "data": {
      "text/plain": [
       "47602"
      ]
     },
     "execution_count": 610,
     "metadata": {},
     "output_type": "execute_result"
    }
   ],
   "source": [
    "len(acc_DF.index)"
   ]
  },
  {
   "cell_type": "code",
   "execution_count": 611,
   "metadata": {},
   "outputs": [
    {
     "data": {
      "text/html": [
       "<div>\n",
       "<style>\n",
       "    .dataframe thead tr:only-child th {\n",
       "        text-align: right;\n",
       "    }\n",
       "\n",
       "    .dataframe thead th {\n",
       "        text-align: left;\n",
       "    }\n",
       "\n",
       "    .dataframe tbody tr th {\n",
       "        vertical-align: top;\n",
       "    }\n",
       "</style>\n",
       "<table border=\"1\" class=\"dataframe\">\n",
       "  <thead>\n",
       "    <tr style=\"text-align: right;\">\n",
       "      <th></th>\n",
       "      <th>timestamp</th>\n",
       "      <th>abs_timestamp</th>\n",
       "      <th>raw_x_acc</th>\n",
       "      <th>raw_y_acc</th>\n",
       "      <th>raw_z_acc</th>\n",
       "    </tr>\n",
       "    <tr>\n",
       "      <th>sys_time</th>\n",
       "      <th></th>\n",
       "      <th></th>\n",
       "      <th></th>\n",
       "      <th></th>\n",
       "      <th></th>\n",
       "    </tr>\n",
       "  </thead>\n",
       "  <tbody>\n",
       "    <tr>\n",
       "      <th>1970-01-01 00:00:00.000</th>\n",
       "      <td>3462.5</td>\n",
       "      <td>2.605512e+15</td>\n",
       "      <td>9.715671</td>\n",
       "      <td>0.253785</td>\n",
       "      <td>0.339977</td>\n",
       "    </tr>\n",
       "    <tr>\n",
       "      <th>1970-01-01 00:00:00.010</th>\n",
       "      <td>3472.0</td>\n",
       "      <td>2.605512e+15</td>\n",
       "      <td>9.605538</td>\n",
       "      <td>0.368707</td>\n",
       "      <td>0.263362</td>\n",
       "    </tr>\n",
       "    <tr>\n",
       "      <th>1970-01-01 00:00:00.020</th>\n",
       "      <td>3482.0</td>\n",
       "      <td>2.605512e+15</td>\n",
       "      <td>9.399636</td>\n",
       "      <td>0.296881</td>\n",
       "      <td>0.378284</td>\n",
       "    </tr>\n",
       "    <tr>\n",
       "      <th>1970-01-01 00:00:00.030</th>\n",
       "      <td>3492.0</td>\n",
       "      <td>2.605512e+15</td>\n",
       "      <td>9.653422</td>\n",
       "      <td>0.138864</td>\n",
       "      <td>0.363919</td>\n",
       "    </tr>\n",
       "    <tr>\n",
       "      <th>1970-01-01 00:00:00.040</th>\n",
       "      <td>3502.0</td>\n",
       "      <td>2.605512e+15</td>\n",
       "      <td>9.892841</td>\n",
       "      <td>0.047884</td>\n",
       "      <td>0.387861</td>\n",
       "    </tr>\n",
       "  </tbody>\n",
       "</table>\n",
       "</div>"
      ],
      "text/plain": [
       "                         timestamp  abs_timestamp  raw_x_acc  raw_y_acc  \\\n",
       "sys_time                                                                  \n",
       "1970-01-01 00:00:00.000     3462.5   2.605512e+15   9.715671   0.253785   \n",
       "1970-01-01 00:00:00.010     3472.0   2.605512e+15   9.605538   0.368707   \n",
       "1970-01-01 00:00:00.020     3482.0   2.605512e+15   9.399636   0.296881   \n",
       "1970-01-01 00:00:00.030     3492.0   2.605512e+15   9.653422   0.138864   \n",
       "1970-01-01 00:00:00.040     3502.0   2.605512e+15   9.892841   0.047884   \n",
       "\n",
       "                         raw_z_acc  \n",
       "sys_time                            \n",
       "1970-01-01 00:00:00.000   0.339977  \n",
       "1970-01-01 00:00:00.010   0.263362  \n",
       "1970-01-01 00:00:00.020   0.378284  \n",
       "1970-01-01 00:00:00.030   0.363919  \n",
       "1970-01-01 00:00:00.040   0.387861  "
      ]
     },
     "execution_count": 611,
     "metadata": {},
     "output_type": "execute_result"
    }
   ],
   "source": [
    "acc_DF.head(5)"
   ]
  },
  {
   "cell_type": "code",
   "execution_count": 612,
   "metadata": {},
   "outputs": [
    {
     "data": {
      "text/plain": [
       "4384"
      ]
     },
     "execution_count": 612,
     "metadata": {},
     "output_type": "execute_result"
    }
   ],
   "source": [
    "len(obd_DF.index)"
   ]
  },
  {
   "cell_type": "code",
   "execution_count": 693,
   "metadata": {},
   "outputs": [],
   "source": [
    "obd_DF1 = obd_DF.dropna(thresh=1, axis='columns')"
   ]
  },
  {
   "cell_type": "code",
   "execution_count": 694,
   "metadata": {},
   "outputs": [
    {
     "data": {
      "text/html": [
       "<div>\n",
       "<style>\n",
       "    .dataframe thead tr:only-child th {\n",
       "        text-align: right;\n",
       "    }\n",
       "\n",
       "    .dataframe thead th {\n",
       "        text-align: left;\n",
       "    }\n",
       "\n",
       "    .dataframe tbody tr th {\n",
       "        vertical-align: top;\n",
       "    }\n",
       "</style>\n",
       "<table border=\"1\" class=\"dataframe\">\n",
       "  <thead>\n",
       "    <tr style=\"text-align: right;\">\n",
       "      <th></th>\n",
       "      <th>timestamp</th>\n",
       "      <th>RPM</th>\n",
       "      <th>Speed</th>\n",
       "    </tr>\n",
       "  </thead>\n",
       "  <tbody>\n",
       "    <tr>\n",
       "      <th>0</th>\n",
       "      <td>1970-01-01 00:00:00.000</td>\n",
       "      <td>1667RPM</td>\n",
       "      <td>0km/h</td>\n",
       "    </tr>\n",
       "    <tr>\n",
       "      <th>1</th>\n",
       "      <td>1970-01-01 00:00:00.817</td>\n",
       "      <td>1652RPM</td>\n",
       "      <td>0km/h</td>\n",
       "    </tr>\n",
       "    <tr>\n",
       "      <th>2</th>\n",
       "      <td>1970-01-01 00:00:01.394</td>\n",
       "      <td>1646RPM</td>\n",
       "      <td>0km/h</td>\n",
       "    </tr>\n",
       "    <tr>\n",
       "      <th>3</th>\n",
       "      <td>1970-01-01 00:00:01.589</td>\n",
       "      <td>1663RPM</td>\n",
       "      <td>0km/h</td>\n",
       "    </tr>\n",
       "    <tr>\n",
       "      <th>4</th>\n",
       "      <td>1970-01-01 00:00:01.767</td>\n",
       "      <td>1660RPM</td>\n",
       "      <td>0km/h</td>\n",
       "    </tr>\n",
       "  </tbody>\n",
       "</table>\n",
       "</div>"
      ],
      "text/plain": [
       "                timestamp      RPM  Speed\n",
       "0 1970-01-01 00:00:00.000  1667RPM  0km/h\n",
       "1 1970-01-01 00:00:00.817  1652RPM  0km/h\n",
       "2 1970-01-01 00:00:01.394  1646RPM  0km/h\n",
       "3 1970-01-01 00:00:01.589  1663RPM  0km/h\n",
       "4 1970-01-01 00:00:01.767  1660RPM  0km/h"
      ]
     },
     "execution_count": 694,
     "metadata": {},
     "output_type": "execute_result"
    }
   ],
   "source": [
    "obd_DF1.head(5)"
   ]
  },
  {
   "cell_type": "code",
   "execution_count": 695,
   "metadata": {},
   "outputs": [
    {
     "name": "stderr",
     "output_type": "stream",
     "text": [
      "/home/anurag/anaconda3/lib/python3.6/site-packages/ipykernel_launcher.py:1: SettingWithCopyWarning: \n",
      "A value is trying to be set on a copy of a slice from a DataFrame.\n",
      "Try using .loc[row_indexer,col_indexer] = value instead\n",
      "\n",
      "See the caveats in the documentation: http://pandas.pydata.org/pandas-docs/stable/indexing.html#indexing-view-versus-copy\n",
      "  \"\"\"Entry point for launching an IPython kernel.\n"
     ]
    }
   ],
   "source": [
    "obd_DF1['RPM'] = obd_DF['RPM'].str.strip(\"RPM\").astype('int64')"
   ]
  },
  {
   "cell_type": "code",
   "execution_count": 696,
   "metadata": {},
   "outputs": [
    {
     "name": "stderr",
     "output_type": "stream",
     "text": [
      "/home/anurag/anaconda3/lib/python3.6/site-packages/ipykernel_launcher.py:1: SettingWithCopyWarning: \n",
      "A value is trying to be set on a copy of a slice from a DataFrame.\n",
      "Try using .loc[row_indexer,col_indexer] = value instead\n",
      "\n",
      "See the caveats in the documentation: http://pandas.pydata.org/pandas-docs/stable/indexing.html#indexing-view-versus-copy\n",
      "  \"\"\"Entry point for launching an IPython kernel.\n"
     ]
    }
   ],
   "source": [
    "obd_DF1['Speed'] = obd_DF['Speed'].str.strip(\"km/h\").astype('int64')"
   ]
  },
  {
   "cell_type": "code",
   "execution_count": 697,
   "metadata": {},
   "outputs": [
    {
     "data": {
      "text/html": [
       "<div>\n",
       "<style>\n",
       "    .dataframe thead tr:only-child th {\n",
       "        text-align: right;\n",
       "    }\n",
       "\n",
       "    .dataframe thead th {\n",
       "        text-align: left;\n",
       "    }\n",
       "\n",
       "    .dataframe tbody tr th {\n",
       "        vertical-align: top;\n",
       "    }\n",
       "</style>\n",
       "<table border=\"1\" class=\"dataframe\">\n",
       "  <thead>\n",
       "    <tr style=\"text-align: right;\">\n",
       "      <th></th>\n",
       "      <th>timestamp</th>\n",
       "      <th>RPM</th>\n",
       "      <th>Speed</th>\n",
       "    </tr>\n",
       "  </thead>\n",
       "  <tbody>\n",
       "    <tr>\n",
       "      <th>0</th>\n",
       "      <td>1970-01-01 00:00:00.000</td>\n",
       "      <td>1667</td>\n",
       "      <td>0</td>\n",
       "    </tr>\n",
       "    <tr>\n",
       "      <th>1</th>\n",
       "      <td>1970-01-01 00:00:00.817</td>\n",
       "      <td>1652</td>\n",
       "      <td>0</td>\n",
       "    </tr>\n",
       "    <tr>\n",
       "      <th>2</th>\n",
       "      <td>1970-01-01 00:00:01.394</td>\n",
       "      <td>1646</td>\n",
       "      <td>0</td>\n",
       "    </tr>\n",
       "    <tr>\n",
       "      <th>3</th>\n",
       "      <td>1970-01-01 00:00:01.589</td>\n",
       "      <td>1663</td>\n",
       "      <td>0</td>\n",
       "    </tr>\n",
       "    <tr>\n",
       "      <th>4</th>\n",
       "      <td>1970-01-01 00:00:01.767</td>\n",
       "      <td>1660</td>\n",
       "      <td>0</td>\n",
       "    </tr>\n",
       "  </tbody>\n",
       "</table>\n",
       "</div>"
      ],
      "text/plain": [
       "                timestamp   RPM  Speed\n",
       "0 1970-01-01 00:00:00.000  1667      0\n",
       "1 1970-01-01 00:00:00.817  1652      0\n",
       "2 1970-01-01 00:00:01.394  1646      0\n",
       "3 1970-01-01 00:00:01.589  1663      0\n",
       "4 1970-01-01 00:00:01.767  1660      0"
      ]
     },
     "execution_count": 697,
     "metadata": {},
     "output_type": "execute_result"
    }
   ],
   "source": [
    "obd_DF1.head(5)"
   ]
  },
  {
   "cell_type": "code",
   "execution_count": 698,
   "metadata": {},
   "outputs": [],
   "source": [
    "obd_DF1 = obd_DF1.rename(index=str,columns = {\"timestamp\":\"sys_time\"})"
   ]
  },
  {
   "cell_type": "code",
   "execution_count": 699,
   "metadata": {},
   "outputs": [],
   "source": [
    "obd_DF1 = obd_DF1.resample(sampling_rate, on='sys_time').sum()"
   ]
  },
  {
   "cell_type": "code",
   "execution_count": 700,
   "metadata": {
    "collapsed": true
   },
   "outputs": [],
   "source": [
    "obd_DF1 = obd_DF1.dropna()"
   ]
  },
  {
   "cell_type": "code",
   "execution_count": 701,
   "metadata": {
    "scrolled": true
   },
   "outputs": [
    {
     "data": {
      "text/html": [
       "<div>\n",
       "<style>\n",
       "    .dataframe thead tr:only-child th {\n",
       "        text-align: right;\n",
       "    }\n",
       "\n",
       "    .dataframe thead th {\n",
       "        text-align: left;\n",
       "    }\n",
       "\n",
       "    .dataframe tbody tr th {\n",
       "        vertical-align: top;\n",
       "    }\n",
       "</style>\n",
       "<table border=\"1\" class=\"dataframe\">\n",
       "  <thead>\n",
       "    <tr style=\"text-align: right;\">\n",
       "      <th></th>\n",
       "      <th>RPM</th>\n",
       "      <th>Speed</th>\n",
       "    </tr>\n",
       "    <tr>\n",
       "      <th>sys_time</th>\n",
       "      <th></th>\n",
       "      <th></th>\n",
       "    </tr>\n",
       "  </thead>\n",
       "  <tbody>\n",
       "    <tr>\n",
       "      <th>1970-01-01 00:00:00.000</th>\n",
       "      <td>1667.0</td>\n",
       "      <td>0.0</td>\n",
       "    </tr>\n",
       "    <tr>\n",
       "      <th>1970-01-01 00:00:00.810</th>\n",
       "      <td>1652.0</td>\n",
       "      <td>0.0</td>\n",
       "    </tr>\n",
       "    <tr>\n",
       "      <th>1970-01-01 00:00:01.390</th>\n",
       "      <td>1646.0</td>\n",
       "      <td>0.0</td>\n",
       "    </tr>\n",
       "    <tr>\n",
       "      <th>1970-01-01 00:00:01.580</th>\n",
       "      <td>1663.0</td>\n",
       "      <td>0.0</td>\n",
       "    </tr>\n",
       "    <tr>\n",
       "      <th>1970-01-01 00:00:01.760</th>\n",
       "      <td>1660.0</td>\n",
       "      <td>0.0</td>\n",
       "    </tr>\n",
       "  </tbody>\n",
       "</table>\n",
       "</div>"
      ],
      "text/plain": [
       "                            RPM  Speed\n",
       "sys_time                              \n",
       "1970-01-01 00:00:00.000  1667.0    0.0\n",
       "1970-01-01 00:00:00.810  1652.0    0.0\n",
       "1970-01-01 00:00:01.390  1646.0    0.0\n",
       "1970-01-01 00:00:01.580  1663.0    0.0\n",
       "1970-01-01 00:00:01.760  1660.0    0.0"
      ]
     },
     "execution_count": 701,
     "metadata": {},
     "output_type": "execute_result"
    }
   ],
   "source": [
    "obd_DF1.head(5)"
   ]
  },
  {
   "cell_type": "code",
   "execution_count": 702,
   "metadata": {},
   "outputs": [
    {
     "data": {
      "text/plain": [
       "4384"
      ]
     },
     "execution_count": 702,
     "metadata": {},
     "output_type": "execute_result"
    }
   ],
   "source": [
    "len(obd_DF1.index)"
   ]
  },
  {
   "cell_type": "code",
   "execution_count": 780,
   "metadata": {},
   "outputs": [
    {
     "data": {
      "text/plain": [
       "<matplotlib.figure.Figure at 0x7f4430d82c88>"
      ]
     },
     "execution_count": 780,
     "metadata": {},
     "output_type": "execute_result"
    }
   ],
   "source": [
    "pyplot.figure(figsize=(20,100))"
   ]
  },
  {
   "cell_type": "code",
   "execution_count": 781,
   "metadata": {},
   "outputs": [
    {
     "data": {
      "text/plain": [
       "<matplotlib.axes._subplots.AxesSubplot at 0x7f4430dc4cc0>"
      ]
     },
     "execution_count": 781,
     "metadata": {},
     "output_type": "execute_result"
    }
   ],
   "source": [
    "obd_DF1.plot()"
   ]
  },
  {
   "cell_type": "code",
   "execution_count": 782,
   "metadata": {},
   "outputs": [
    {
     "data": {
      "text/plain": [
       "<matplotlib.figure.Figure at 0x7f4430d82c88>"
      ]
     },
     "metadata": {},
     "output_type": "display_data"
    },
    {
     "data": {
      "image/png": "[encoded data removed]",
      "text/plain": [
       "<matplotlib.figure.Figure at 0x7f4430d72e48>"
      ]
     },
     "metadata": {},
     "output_type": "display_data"
    }
   ],
   "source": [
    "pyplot.show()"
   ]
  },
  {
   "cell_type": "code",
   "execution_count": 762,
   "metadata": {
    "collapsed": true
   },
   "outputs": [],
   "source": [
    "acc_DF = acc_DF.astype('float64')"
   ]
  },
  {
   "cell_type": "code",
   "execution_count": 763,
   "metadata": {},
   "outputs": [
    {
     "data": {
      "text/html": [
       "<div>\n",
       "<style>\n",
       "    .dataframe thead tr:only-child th {\n",
       "        text-align: right;\n",
       "    }\n",
       "\n",
       "    .dataframe thead th {\n",
       "        text-align: left;\n",
       "    }\n",
       "\n",
       "    .dataframe tbody tr th {\n",
       "        vertical-align: top;\n",
       "    }\n",
       "</style>\n",
       "<table border=\"1\" class=\"dataframe\">\n",
       "  <thead>\n",
       "    <tr style=\"text-align: right;\">\n",
       "      <th></th>\n",
       "      <th>timestamp</th>\n",
       "      <th>abs_timestamp</th>\n",
       "      <th>raw_x_acc</th>\n",
       "      <th>raw_y_acc</th>\n",
       "      <th>raw_z_acc</th>\n",
       "    </tr>\n",
       "    <tr>\n",
       "      <th>sys_time</th>\n",
       "      <th></th>\n",
       "      <th></th>\n",
       "      <th></th>\n",
       "      <th></th>\n",
       "      <th></th>\n",
       "    </tr>\n",
       "  </thead>\n",
       "  <tbody>\n",
       "    <tr>\n",
       "      <th>1970-01-01 00:00:00.000</th>\n",
       "      <td>3462.5</td>\n",
       "      <td>2.605512e+15</td>\n",
       "      <td>9.715671</td>\n",
       "      <td>0.253785</td>\n",
       "      <td>0.339977</td>\n",
       "    </tr>\n",
       "    <tr>\n",
       "      <th>1970-01-01 00:00:00.010</th>\n",
       "      <td>3472.0</td>\n",
       "      <td>2.605512e+15</td>\n",
       "      <td>9.605538</td>\n",
       "      <td>0.368707</td>\n",
       "      <td>0.263362</td>\n",
       "    </tr>\n",
       "    <tr>\n",
       "      <th>1970-01-01 00:00:00.020</th>\n",
       "      <td>3482.0</td>\n",
       "      <td>2.605512e+15</td>\n",
       "      <td>9.399636</td>\n",
       "      <td>0.296881</td>\n",
       "      <td>0.378284</td>\n",
       "    </tr>\n",
       "    <tr>\n",
       "      <th>1970-01-01 00:00:00.030</th>\n",
       "      <td>3492.0</td>\n",
       "      <td>2.605512e+15</td>\n",
       "      <td>9.653422</td>\n",
       "      <td>0.138864</td>\n",
       "      <td>0.363919</td>\n",
       "    </tr>\n",
       "    <tr>\n",
       "      <th>1970-01-01 00:00:00.040</th>\n",
       "      <td>3502.0</td>\n",
       "      <td>2.605512e+15</td>\n",
       "      <td>9.892841</td>\n",
       "      <td>0.047884</td>\n",
       "      <td>0.387861</td>\n",
       "    </tr>\n",
       "  </tbody>\n",
       "</table>\n",
       "</div>"
      ],
      "text/plain": [
       "                         timestamp  abs_timestamp  raw_x_acc  raw_y_acc  \\\n",
       "sys_time                                                                  \n",
       "1970-01-01 00:00:00.000     3462.5   2.605512e+15   9.715671   0.253785   \n",
       "1970-01-01 00:00:00.010     3472.0   2.605512e+15   9.605538   0.368707   \n",
       "1970-01-01 00:00:00.020     3482.0   2.605512e+15   9.399636   0.296881   \n",
       "1970-01-01 00:00:00.030     3492.0   2.605512e+15   9.653422   0.138864   \n",
       "1970-01-01 00:00:00.040     3502.0   2.605512e+15   9.892841   0.047884   \n",
       "\n",
       "                         raw_z_acc  \n",
       "sys_time                            \n",
       "1970-01-01 00:00:00.000   0.339977  \n",
       "1970-01-01 00:00:00.010   0.263362  \n",
       "1970-01-01 00:00:00.020   0.378284  \n",
       "1970-01-01 00:00:00.030   0.363919  \n",
       "1970-01-01 00:00:00.040   0.387861  "
      ]
     },
     "execution_count": 763,
     "metadata": {},
     "output_type": "execute_result"
    }
   ],
   "source": [
    "acc_DF.head(5)"
   ]
  },
  {
   "cell_type": "code",
   "execution_count": 707,
   "metadata": {
    "collapsed": true
   },
   "outputs": [],
   "source": [
    "acc_DF1 = acc_DF.dropna()"
   ]
  },
  {
   "cell_type": "code",
   "execution_count": 708,
   "metadata": {},
   "outputs": [
    {
     "data": {
      "text/html": [
       "<div>\n",
       "<style>\n",
       "    .dataframe thead tr:only-child th {\n",
       "        text-align: right;\n",
       "    }\n",
       "\n",
       "    .dataframe thead th {\n",
       "        text-align: left;\n",
       "    }\n",
       "\n",
       "    .dataframe tbody tr th {\n",
       "        vertical-align: top;\n",
       "    }\n",
       "</style>\n",
       "<table border=\"1\" class=\"dataframe\">\n",
       "  <thead>\n",
       "    <tr style=\"text-align: right;\">\n",
       "      <th></th>\n",
       "      <th>timestamp</th>\n",
       "      <th>abs_timestamp</th>\n",
       "      <th>raw_x_acc</th>\n",
       "      <th>raw_y_acc</th>\n",
       "      <th>raw_z_acc</th>\n",
       "    </tr>\n",
       "    <tr>\n",
       "      <th>sys_time</th>\n",
       "      <th></th>\n",
       "      <th></th>\n",
       "      <th></th>\n",
       "      <th></th>\n",
       "      <th></th>\n",
       "    </tr>\n",
       "  </thead>\n",
       "  <tbody>\n",
       "    <tr>\n",
       "      <th>1970-01-01 00:00:00.000</th>\n",
       "      <td>3462.5</td>\n",
       "      <td>2.605512e+15</td>\n",
       "      <td>9.715671</td>\n",
       "      <td>0.253785</td>\n",
       "      <td>0.339977</td>\n",
       "    </tr>\n",
       "    <tr>\n",
       "      <th>1970-01-01 00:00:00.010</th>\n",
       "      <td>3472.0</td>\n",
       "      <td>2.605512e+15</td>\n",
       "      <td>9.605538</td>\n",
       "      <td>0.368707</td>\n",
       "      <td>0.263362</td>\n",
       "    </tr>\n",
       "    <tr>\n",
       "      <th>1970-01-01 00:00:00.020</th>\n",
       "      <td>3482.0</td>\n",
       "      <td>2.605512e+15</td>\n",
       "      <td>9.399636</td>\n",
       "      <td>0.296881</td>\n",
       "      <td>0.378284</td>\n",
       "    </tr>\n",
       "    <tr>\n",
       "      <th>1970-01-01 00:00:00.030</th>\n",
       "      <td>3492.0</td>\n",
       "      <td>2.605512e+15</td>\n",
       "      <td>9.653422</td>\n",
       "      <td>0.138864</td>\n",
       "      <td>0.363919</td>\n",
       "    </tr>\n",
       "    <tr>\n",
       "      <th>1970-01-01 00:00:00.040</th>\n",
       "      <td>3502.0</td>\n",
       "      <td>2.605512e+15</td>\n",
       "      <td>9.892841</td>\n",
       "      <td>0.047884</td>\n",
       "      <td>0.387861</td>\n",
       "    </tr>\n",
       "  </tbody>\n",
       "</table>\n",
       "</div>"
      ],
      "text/plain": [
       "                         timestamp  abs_timestamp  raw_x_acc  raw_y_acc  \\\n",
       "sys_time                                                                  \n",
       "1970-01-01 00:00:00.000     3462.5   2.605512e+15   9.715671   0.253785   \n",
       "1970-01-01 00:00:00.010     3472.0   2.605512e+15   9.605538   0.368707   \n",
       "1970-01-01 00:00:00.020     3482.0   2.605512e+15   9.399636   0.296881   \n",
       "1970-01-01 00:00:00.030     3492.0   2.605512e+15   9.653422   0.138864   \n",
       "1970-01-01 00:00:00.040     3502.0   2.605512e+15   9.892841   0.047884   \n",
       "\n",
       "                         raw_z_acc  \n",
       "sys_time                            \n",
       "1970-01-01 00:00:00.000   0.339977  \n",
       "1970-01-01 00:00:00.010   0.263362  \n",
       "1970-01-01 00:00:00.020   0.378284  \n",
       "1970-01-01 00:00:00.030   0.363919  \n",
       "1970-01-01 00:00:00.040   0.387861  "
      ]
     },
     "execution_count": 708,
     "metadata": {},
     "output_type": "execute_result"
    }
   ],
   "source": [
    "acc_DF1.head(5)"
   ]
  },
  {
   "cell_type": "code",
   "execution_count": 709,
   "metadata": {},
   "outputs": [],
   "source": [
    "acc_DF1 = acc_DF.drop(['abs_timestamp', 'timestamp'],axis = 1)"
   ]
  },
  {
   "cell_type": "code",
   "execution_count": 710,
   "metadata": {},
   "outputs": [
    {
     "data": {
      "text/html": [
       "<div>\n",
       "<style>\n",
       "    .dataframe thead tr:only-child th {\n",
       "        text-align: right;\n",
       "    }\n",
       "\n",
       "    .dataframe thead th {\n",
       "        text-align: left;\n",
       "    }\n",
       "\n",
       "    .dataframe tbody tr th {\n",
       "        vertical-align: top;\n",
       "    }\n",
       "</style>\n",
       "<table border=\"1\" class=\"dataframe\">\n",
       "  <thead>\n",
       "    <tr style=\"text-align: right;\">\n",
       "      <th></th>\n",
       "      <th>RPM</th>\n",
       "      <th>Speed</th>\n",
       "    </tr>\n",
       "    <tr>\n",
       "      <th>sys_time</th>\n",
       "      <th></th>\n",
       "      <th></th>\n",
       "    </tr>\n",
       "  </thead>\n",
       "  <tbody>\n",
       "    <tr>\n",
       "      <th>1970-01-01 00:00:00.000</th>\n",
       "      <td>1667.0</td>\n",
       "      <td>0.0</td>\n",
       "    </tr>\n",
       "    <tr>\n",
       "      <th>1970-01-01 00:00:00.810</th>\n",
       "      <td>1652.0</td>\n",
       "      <td>0.0</td>\n",
       "    </tr>\n",
       "    <tr>\n",
       "      <th>1970-01-01 00:00:01.390</th>\n",
       "      <td>1646.0</td>\n",
       "      <td>0.0</td>\n",
       "    </tr>\n",
       "    <tr>\n",
       "      <th>1970-01-01 00:00:01.580</th>\n",
       "      <td>1663.0</td>\n",
       "      <td>0.0</td>\n",
       "    </tr>\n",
       "    <tr>\n",
       "      <th>1970-01-01 00:00:01.760</th>\n",
       "      <td>1660.0</td>\n",
       "      <td>0.0</td>\n",
       "    </tr>\n",
       "  </tbody>\n",
       "</table>\n",
       "</div>"
      ],
      "text/plain": [
       "                            RPM  Speed\n",
       "sys_time                              \n",
       "1970-01-01 00:00:00.000  1667.0    0.0\n",
       "1970-01-01 00:00:00.810  1652.0    0.0\n",
       "1970-01-01 00:00:01.390  1646.0    0.0\n",
       "1970-01-01 00:00:01.580  1663.0    0.0\n",
       "1970-01-01 00:00:01.760  1660.0    0.0"
      ]
     },
     "execution_count": 710,
     "metadata": {},
     "output_type": "execute_result"
    }
   ],
   "source": [
    "obd_DF1.head(5)"
   ]
  },
  {
   "cell_type": "code",
   "execution_count": 711,
   "metadata": {
    "collapsed": true
   },
   "outputs": [],
   "source": [
    "acc_DF1.to_csv(\"acc_DF1.txt\")\n",
    "\n",
    "acc_DF1 = pd.read_csv(\"acc_DF1.txt\")\n",
    "obd_DF1.to_csv(\"obd_DF1.txt\")\n",
    "\n",
    "obd_DF1 = pd.read_csv(\"obd_DF1.txt\")"
   ]
  },
  {
   "cell_type": "code",
   "execution_count": 716,
   "metadata": {},
   "outputs": [],
   "source": [
    "acc_DF2 = acc_DF1.merge(obd_DF1,how = 'inner').drop(['RPM', 'raw_y_acc','raw_z_acc'],axis = 1)"
   ]
  },
  {
   "cell_type": "code",
   "execution_count": 784,
   "metadata": {
    "scrolled": true
   },
   "outputs": [
    {
     "data": {
      "text/plain": [
       "<matplotlib.axes._subplots.AxesSubplot at 0x7f4430d72dd8>"
      ]
     },
     "execution_count": 784,
     "metadata": {},
     "output_type": "execute_result"
    }
   ],
   "source": [
    "acc_DF2.plot()"
   ]
  },
  {
   "cell_type": "code",
   "execution_count": 785,
   "metadata": {},
   "outputs": [
    {
     "data": {
      "image/png": "[encoded data removed]",
      "text/plain": [
       "<matplotlib.figure.Figure at 0x7f4430d88160>"
      ]
     },
     "metadata": {},
     "output_type": "display_data"
    }
   ],
   "source": [
    "pyplot.show()"
   ]
  },
  {
   "cell_type": "markdown",
   "metadata": {},
   "source": [
    "Creating new files"
   ]
  },
  {
   "cell_type": "code",
   "execution_count": null,
   "metadata": {
    "collapsed": true
   },
   "outputs": [],
   "source": [
    "obd_DF1 = obd_DF1.rename(index=str,columns = {\"timestamp\":\"sys_time\"}).head(5)"
   ]
  },
  {
   "cell_type": "code",
   "execution_count": 643,
   "metadata": {
    "collapsed": true
   },
   "outputs": [],
   "source": [
    "obd_DF1['RPM'] = obd_DF1['RPM'].astype('str') + 'RPM'"
   ]
  },
  {
   "cell_type": "code",
   "execution_count": 626,
   "metadata": {
    "collapsed": true
   },
   "outputs": [],
   "source": [
    "obd_DF1['Speed'] = obd_DF1['Speed'].astype('str') + 'km/h'"
   ]
  },
  {
   "cell_type": "code",
   "execution_count": 676,
   "metadata": {
    "collapsed": true
   },
   "outputs": [],
   "source": [
    "acc_DF1.to_csv(\"acc.txt\")\n",
    "\n",
    "acc_DF1 = pd.read_csv(\"acc.txt\")\n",
    "obd_DF1.to_csv(\"obd.txt\")\n",
    "\n",
    "obd_DF1 = pd.read_csv(\"obd.txt\")"
   ]
  },
  {
   "cell_type": "code",
   "execution_count": null,
   "metadata": {
    "collapsed": true
   },
   "outputs": [],
   "source": []
  }
 ],
 "metadata": {
  "kernelspec": {
   "display_name": "Python 3",
   "language": "python",
   "name": "python3"
  },
  "language_info": {
   "codemirror_mode": {
    "name": "ipython",
    "version": 3
   },
   "file_extension": ".py",
   "mimetype": "text/x-python",
   "name": "python",
   "nbconvert_exporter": "python",
   "pygments_lexer": "ipython3",
   "version": "3.6.3"
  }
 },
 "nbformat": 4,
 "nbformat_minor": 2
}
